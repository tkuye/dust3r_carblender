{
 "cells": [
  {
   "cell_type": "code",
   "execution_count": 1,
   "metadata": {},
   "outputs": [
    {
     "name": "stderr",
     "output_type": "stream",
     "text": [
      "<frozen importlib._bootstrap>:219: RuntimeWarning: scipy._lib.messagestream.MessageStream size changed, may indicate binary incompatibility. Expected 56 from C header, got 64 from PyObject\n"
     ]
    }
   ],
   "source": [
    "from dust3r.inference import inference, load_model\n",
    "from dust3r.utils.image import load_images\n",
    "from dust3r.image_pairs import make_pairs\n",
    "from dust3r.cloud_opt import global_aligner, GlobalAlignerMode\n",
    "\n",
    "model_path = \"checkpoints/DUSt3R_ViTLarge_BaseDecoder_512_dpt.pth\"\n",
    "device = 'cuda'\n",
    "batch_size = 64\n",
    "schedule = 'cosine'\n",
    "lr = 0.01\n",
    "niter = 1000"
   ]
  },
  {
   "cell_type": "code",
   "execution_count": 2,
   "metadata": {},
   "outputs": [
    {
     "name": "stdout",
     "output_type": "stream",
     "text": [
      "... loading model from checkpoints/DUSt3R_ViTLarge_BaseDecoder_512_dpt.pth\n",
      "instantiating : AsymmetricCroCo3DStereo(enc_depth=24, dec_depth=12, enc_embed_dim=1024, dec_embed_dim=768, enc_num_heads=16, dec_num_heads=12, pos_embed='RoPE100', patch_embed_cls='PatchEmbedDust3R', img_size=(512, 512), head_type='dpt', output_mode='pts3d', depth_mode=('exp', -inf, inf), conf_mode=('exp', 1, inf), landscape_only=False)\n",
      "<All keys matched successfully>\n"
     ]
    }
   ],
   "source": [
    "model = load_model(model_path, device)"
   ]
  },
  {
   "cell_type": "code",
   "execution_count": 3,
   "metadata": {},
   "outputs": [
    {
     "name": "stdout",
     "output_type": "stream",
     "text": [
      ">> Loading images from data/images\n",
      " - adding IMG_3477.jpg with resolution 4032x3024 --> 512x384\n",
      " - adding IMG_3478.jpg with resolution 4032x3024 --> 512x384\n",
      " - adding IMG_3479.jpg with resolution 4032x3024 --> 512x384\n",
      " - adding IMG_3480.jpg with resolution 4032x3024 --> 512x384\n",
      " - adding IMG_3481.jpg with resolution 4032x3024 --> 512x384\n",
      " - adding IMG_3482.jpg with resolution 4032x3024 --> 512x384\n",
      " - adding IMG_3483.jpg with resolution 4032x3024 --> 512x384\n",
      " - adding IMG_3484.jpg with resolution 4032x3024 --> 512x384\n",
      " - adding IMG_3485.jpg with resolution 4032x3024 --> 512x384\n",
      " - adding IMG_3486.jpg with resolution 4032x3024 --> 512x384\n",
      " - adding IMG_3487.jpg with resolution 4032x3024 --> 512x384\n",
      " - adding IMG_3488.jpg with resolution 4032x3024 --> 512x384\n",
      " - adding IMG_3489.jpg with resolution 4032x3024 --> 512x384\n",
      " - adding IMG_3490.jpg with resolution 4032x3024 --> 512x384\n",
      " - adding IMG_3491.jpg with resolution 4032x3024 --> 512x384\n",
      " - adding IMG_3492.jpg with resolution 4032x3024 --> 512x384\n",
      " - adding IMG_3493.jpg with resolution 4032x3024 --> 512x384\n",
      " - adding IMG_3494.jpg with resolution 4032x3024 --> 512x384\n",
      " - adding IMG_3495.jpg with resolution 4032x3024 --> 512x384\n",
      " - adding IMG_3496.jpg with resolution 4032x3024 --> 512x384\n",
      " - adding IMG_3497.jpg with resolution 4032x3024 --> 512x384\n",
      " - adding IMG_3498.jpg with resolution 4032x3024 --> 512x384\n",
      " - adding IMG_3499.jpg with resolution 4032x3024 --> 512x384\n",
      " - adding IMG_3500.jpg with resolution 4032x3024 --> 512x384\n",
      " - adding IMG_3501.jpg with resolution 4032x3024 --> 512x384\n",
      " - adding IMG_3502.jpg with resolution 4032x3024 --> 512x384\n",
      " - adding IMG_3503.jpg with resolution 4032x3024 --> 512x384\n",
      " - adding IMG_3504.jpg with resolution 4032x3024 --> 512x384\n",
      " - adding IMG_3505.jpg with resolution 4032x3024 --> 512x384\n",
      " - adding IMG_3506.jpg with resolution 4032x3024 --> 512x384\n",
      " - adding IMG_3507.jpg with resolution 4032x3024 --> 512x384\n",
      " - adding IMG_3508.jpg with resolution 4032x3024 --> 512x384\n",
      " - adding IMG_3509.jpg with resolution 4032x3024 --> 512x384\n",
      " - adding IMG_3510.jpg with resolution 4032x3024 --> 512x384\n",
      " - adding IMG_3511.jpg with resolution 4032x3024 --> 512x384\n",
      " - adding IMG_3512.jpg with resolution 4032x3024 --> 512x384\n",
      " - adding IMG_3513.jpg with resolution 4032x3024 --> 512x384\n",
      " - adding IMG_3514.jpg with resolution 4032x3024 --> 512x384\n",
      " - adding IMG_3515.jpg with resolution 4032x3024 --> 512x384\n",
      " - adding IMG_3516.jpg with resolution 4032x3024 --> 512x384\n",
      " - adding IMG_3517.jpg with resolution 4032x3024 --> 512x384\n",
      " - adding IMG_3518.jpg with resolution 4032x3024 --> 512x384\n",
      " - adding IMG_3519.jpg with resolution 4032x3024 --> 512x384\n",
      " - adding IMG_3520.jpg with resolution 4032x3024 --> 512x384\n",
      " - adding IMG_3521.jpg with resolution 4032x3024 --> 512x384\n",
      " - adding IMG_3522.jpg with resolution 4032x3024 --> 512x384\n",
      " - adding IMG_3523.jpg with resolution 4032x3024 --> 512x384\n",
      " - adding IMG_3524.jpg with resolution 4032x3024 --> 512x384\n",
      " - adding IMG_3525.jpg with resolution 4032x3024 --> 512x384\n",
      " - adding IMG_3526.jpg with resolution 4032x3024 --> 512x384\n",
      " - adding IMG_3527.jpg with resolution 4032x3024 --> 512x384\n",
      " - adding IMG_3528.jpg with resolution 4032x3024 --> 512x384\n",
      " - adding IMG_3529.jpg with resolution 4032x3024 --> 512x384\n",
      " - adding IMG_3530.jpg with resolution 4032x3024 --> 512x384\n",
      " - adding IMG_3531.jpg with resolution 4032x3024 --> 512x384\n",
      " - adding IMG_3532.jpg with resolution 4032x3024 --> 512x384\n",
      " - adding IMG_3533.jpg with resolution 4032x3024 --> 512x384\n",
      " - adding IMG_3534.jpg with resolution 4032x3024 --> 512x384\n",
      " - adding IMG_3535.jpg with resolution 4032x3024 --> 512x384\n",
      " - adding IMG_3536.jpg with resolution 4032x3024 --> 512x384\n",
      " - adding IMG_3537.jpg with resolution 4032x3024 --> 512x384\n",
      " - adding IMG_3538.jpg with resolution 4032x3024 --> 512x384\n",
      " - adding IMG_3539.jpg with resolution 4032x3024 --> 512x384\n",
      " - adding IMG_3540.jpg with resolution 4032x3024 --> 512x384\n",
      " - adding IMG_3541.jpg with resolution 4032x3024 --> 512x384\n",
      " - adding IMG_3542.jpg with resolution 4032x3024 --> 512x384\n",
      " - adding IMG_3543.jpg with resolution 4032x3024 --> 512x384\n",
      " - adding IMG_3544.jpg with resolution 4032x3024 --> 512x384\n",
      " - adding IMG_3545.jpg with resolution 4032x3024 --> 512x384\n",
      " - adding IMG_3546.jpg with resolution 4032x3024 --> 512x384\n",
      " - adding IMG_3547.jpg with resolution 4032x3024 --> 512x384\n",
      " - adding IMG_3548.jpg with resolution 4032x3024 --> 512x384\n",
      " - adding IMG_3549.jpg with resolution 4032x3024 --> 512x384\n",
      " - adding IMG_3550.jpg with resolution 4032x3024 --> 512x384\n",
      " - adding IMG_3551.jpg with resolution 4032x3024 --> 512x384\n",
      " - adding IMG_3552.jpg with resolution 4032x3024 --> 512x384\n",
      " - adding IMG_3553.jpg with resolution 4032x3024 --> 512x384\n",
      " - adding IMG_3554.jpg with resolution 4032x3024 --> 512x384\n",
      " - adding IMG_3555.jpg with resolution 4032x3024 --> 512x384\n",
      " - adding IMG_3556.jpg with resolution 4032x3024 --> 512x384\n",
      " - adding IMG_3557.jpg with resolution 4032x3024 --> 512x384\n",
      " - adding IMG_3558.jpg with resolution 4032x3024 --> 512x384\n",
      " - adding IMG_3559.jpg with resolution 4032x3024 --> 512x384\n",
      " - adding IMG_3560.jpg with resolution 4032x3024 --> 512x384\n",
      " - adding IMG_3561.jpg with resolution 4032x3024 --> 512x384\n",
      " - adding IMG_3562.jpg with resolution 4032x3024 --> 512x384\n",
      " - adding IMG_3563.jpg with resolution 4032x3024 --> 512x384\n",
      " - adding IMG_3564.jpg with resolution 4032x3024 --> 512x384\n",
      " - adding IMG_3565.jpg with resolution 4032x3024 --> 512x384\n",
      " - adding IMG_3566.jpg with resolution 4032x3024 --> 512x384\n",
      " - adding IMG_3567.jpg with resolution 4032x3024 --> 512x384\n",
      " - adding IMG_3568.jpg with resolution 4032x3024 --> 512x384\n",
      " - adding IMG_3569.jpg with resolution 4032x3024 --> 512x384\n",
      " - adding IMG_3570.jpg with resolution 4032x3024 --> 512x384\n",
      " - adding IMG_3571.jpg with resolution 4032x3024 --> 512x384\n",
      " - adding IMG_3572.jpg with resolution 4032x3024 --> 512x384\n",
      " - adding IMG_3573.jpg with resolution 4032x3024 --> 512x384\n",
      " - adding IMG_3574.jpg with resolution 4032x3024 --> 512x384\n",
      " - adding IMG_3575.jpg with resolution 4032x3024 --> 512x384\n",
      " - adding IMG_3576.jpg with resolution 4032x3024 --> 512x384\n",
      " - adding IMG_3577.jpg with resolution 4032x3024 --> 512x384\n",
      " - adding IMG_3578.jpg with resolution 4032x3024 --> 512x384\n",
      " - adding IMG_3579.jpg with resolution 4032x3024 --> 512x384\n",
      " - adding IMG_3580.jpg with resolution 4032x3024 --> 512x384\n",
      " - adding IMG_3581.jpg with resolution 4032x3024 --> 512x384\n",
      " - adding IMG_3582.jpg with resolution 4032x3024 --> 512x384\n",
      " - adding IMG_3583.jpg with resolution 4032x3024 --> 512x384\n",
      " - adding IMG_3584.jpg with resolution 4032x3024 --> 512x384\n",
      " - adding IMG_3585.jpg with resolution 4032x3024 --> 512x384\n",
      " - adding IMG_3586.jpg with resolution 4032x3024 --> 512x384\n",
      " - adding IMG_3587.jpg with resolution 4032x3024 --> 512x384\n",
      " - adding IMG_3588.jpg with resolution 4032x3024 --> 512x384\n",
      " - adding IMG_3589.jpg with resolution 4032x3024 --> 512x384\n",
      " - adding IMG_3590.jpg with resolution 4032x3024 --> 512x384\n",
      " - adding IMG_3591.jpg with resolution 4032x3024 --> 512x384\n",
      " - adding IMG_3592.jpg with resolution 4032x3024 --> 512x384\n",
      " - adding IMG_3593.jpg with resolution 4032x3024 --> 512x384\n",
      " - adding IMG_3594.jpg with resolution 4032x3024 --> 512x384\n",
      " - adding IMG_3595.jpg with resolution 4032x3024 --> 512x384\n",
      " - adding IMG_3596.jpg with resolution 4032x3024 --> 512x384\n",
      " - adding IMG_3597.jpg with resolution 4032x3024 --> 512x384\n",
      " - adding IMG_3598.jpg with resolution 4032x3024 --> 512x384\n",
      " - adding IMG_3599.jpg with resolution 4032x3024 --> 512x384\n",
      " - adding IMG_3600.jpg with resolution 4032x3024 --> 512x384\n",
      " - adding IMG_3601.jpg with resolution 4032x3024 --> 512x384\n",
      " - adding IMG_3602.jpg with resolution 4032x3024 --> 512x384\n",
      " - adding IMG_3603.jpg with resolution 4032x3024 --> 512x384\n",
      " - adding IMG_3604.jpg with resolution 4032x3024 --> 512x384\n",
      " - adding IMG_3605.jpg with resolution 4032x3024 --> 512x384\n",
      " - adding IMG_3606.jpg with resolution 4032x3024 --> 512x384\n",
      " - adding IMG_3607.jpg with resolution 4032x3024 --> 512x384\n",
      " - adding IMG_3608.jpg with resolution 4032x3024 --> 512x384\n",
      " - adding IMG_3609.jpg with resolution 4032x3024 --> 512x384\n",
      " - adding IMG_3610.jpg with resolution 4032x3024 --> 512x384\n",
      " - adding IMG_3611.jpg with resolution 4032x3024 --> 512x384\n",
      " - adding IMG_3612.jpg with resolution 4032x3024 --> 512x384\n",
      " - adding IMG_3613.jpg with resolution 4032x3024 --> 512x384\n",
      " - adding IMG_3614.jpg with resolution 4032x3024 --> 512x384\n",
      " - adding IMG_3615.jpg with resolution 4032x3024 --> 512x384\n",
      " - adding IMG_3616.jpg with resolution 4032x3024 --> 512x384\n",
      " - adding IMG_3617.jpg with resolution 4032x3024 --> 512x384\n",
      " - adding IMG_3618.jpg with resolution 4032x3024 --> 512x384\n",
      " - adding IMG_3619.jpg with resolution 4032x3024 --> 512x384\n",
      " - adding IMG_3620.jpg with resolution 4032x3024 --> 512x384\n",
      " - adding IMG_3621.jpg with resolution 4032x3024 --> 512x384\n",
      " - adding IMG_3622.jpg with resolution 4032x3024 --> 512x384\n",
      " - adding IMG_3623.jpg with resolution 4032x3024 --> 512x384\n",
      " - adding IMG_3624.jpg with resolution 4032x3024 --> 512x384\n",
      " - adding IMG_3625.jpg with resolution 4032x3024 --> 512x384\n",
      " - adding IMG_3626.jpg with resolution 4032x3024 --> 512x384\n",
      " - adding IMG_3627.jpg with resolution 4032x3024 --> 512x384\n",
      " - adding IMG_3628.jpg with resolution 4032x3024 --> 512x384\n",
      " - adding IMG_3629.jpg with resolution 4032x3024 --> 512x384\n",
      " - adding IMG_3630.jpg with resolution 4032x3024 --> 512x384\n",
      " - adding IMG_3631.jpg with resolution 4032x3024 --> 512x384\n",
      " - adding IMG_3632.jpg with resolution 4032x3024 --> 512x384\n",
      " - adding IMG_3633.jpg with resolution 4032x3024 --> 512x384\n",
      " - adding IMG_3634.jpg with resolution 4032x3024 --> 512x384\n",
      " - adding IMG_3635.jpg with resolution 4032x3024 --> 512x384\n",
      " - adding IMG_3636.jpg with resolution 4032x3024 --> 512x384\n",
      " - adding IMG_3637.jpg with resolution 4032x3024 --> 512x384\n",
      " - adding IMG_3638.jpg with resolution 4032x3024 --> 512x384\n",
      " - adding IMG_3639.jpg with resolution 4032x3024 --> 512x384\n",
      " - adding IMG_3640.jpg with resolution 4032x3024 --> 512x384\n",
      " - adding IMG_3641.jpg with resolution 4032x3024 --> 512x384\n",
      " - adding IMG_3642.jpg with resolution 4032x3024 --> 512x384\n",
      " - adding IMG_3643.jpg with resolution 4032x3024 --> 512x384\n",
      " - adding IMG_3644.jpg with resolution 4032x3024 --> 512x384\n",
      " - adding IMG_3645.jpg with resolution 4032x3024 --> 512x384\n",
      " - adding IMG_3646.jpg with resolution 4032x3024 --> 512x384\n",
      " - adding IMG_3647.jpg with resolution 4032x3024 --> 512x384\n",
      " - adding IMG_3648.jpg with resolution 4032x3024 --> 512x384\n",
      " - adding IMG_3649.jpg with resolution 4032x3024 --> 512x384\n",
      " - adding IMG_3650.jpg with resolution 4032x3024 --> 512x384\n",
      " - adding IMG_3651.jpg with resolution 4032x3024 --> 512x384\n",
      " - adding IMG_3652.jpg with resolution 4032x3024 --> 512x384\n",
      " - adding IMG_3653.jpg with resolution 4032x3024 --> 512x384\n",
      " - adding IMG_3654.jpg with resolution 4032x3024 --> 512x384\n",
      " - adding IMG_3655.jpg with resolution 4032x3024 --> 512x384\n",
      " - adding IMG_3656.jpg with resolution 4032x3024 --> 512x384\n",
      " - adding IMG_3657.jpg with resolution 4032x3024 --> 512x384\n",
      " - adding IMG_3658.jpg with resolution 4032x3024 --> 512x384\n",
      " - adding IMG_3659.jpg with resolution 4032x3024 --> 512x384\n",
      " - adding IMG_3660.jpg with resolution 4032x3024 --> 512x384\n",
      " - adding IMG_3661.jpg with resolution 4032x3024 --> 512x384\n",
      " - adding IMG_3662.jpg with resolution 4032x3024 --> 512x384\n",
      " - adding IMG_3663.jpg with resolution 4032x3024 --> 512x384\n",
      " - adding IMG_3664.jpg with resolution 4032x3024 --> 512x384\n",
      " - adding IMG_3665.jpg with resolution 4032x3024 --> 512x384\n",
      " - adding IMG_3666.jpg with resolution 4032x3024 --> 512x384\n",
      " - adding IMG_3667.jpg with resolution 4032x3024 --> 512x384\n",
      " - adding IMG_3668.jpg with resolution 4032x3024 --> 512x384\n",
      " - adding IMG_3669.jpg with resolution 4032x3024 --> 512x384\n",
      " - adding IMG_3670.jpg with resolution 4032x3024 --> 512x384\n",
      " - adding IMG_3671.jpg with resolution 4032x3024 --> 512x384\n",
      " - adding IMG_3672.jpg with resolution 4032x3024 --> 512x384\n",
      " - adding IMG_3673.jpg with resolution 4032x3024 --> 512x384\n",
      " - adding IMG_3674.jpg with resolution 4032x3024 --> 512x384\n",
      " - adding IMG_3675.jpg with resolution 4032x3024 --> 512x384\n",
      " - adding IMG_3676.jpg with resolution 4032x3024 --> 512x384\n",
      " - adding IMG_3677.jpg with resolution 4032x3024 --> 512x384\n",
      " - adding IMG_3678.jpg with resolution 4032x3024 --> 512x384\n",
      " - adding IMG_3679.jpg with resolution 4032x3024 --> 512x384\n",
      " - adding IMG_3680.jpg with resolution 4032x3024 --> 512x384\n",
      " - adding IMG_3681.jpg with resolution 4032x3024 --> 512x384\n",
      " - adding IMG_3682.jpg with resolution 4032x3024 --> 512x384\n",
      " - adding IMG_3683.jpg with resolution 4032x3024 --> 512x384\n",
      " - adding IMG_3684.jpg with resolution 4032x3024 --> 512x384\n",
      " - adding IMG_3685.jpg with resolution 4032x3024 --> 512x384\n",
      " - adding IMG_3686.jpg with resolution 4032x3024 --> 512x384\n",
      " - adding IMG_3687.jpg with resolution 4032x3024 --> 512x384\n",
      " - adding IMG_3688.jpg with resolution 4032x3024 --> 512x384\n",
      " - adding IMG_3689.jpg with resolution 4032x3024 --> 512x384\n",
      " - adding IMG_3690.jpg with resolution 4032x3024 --> 512x384\n",
      " - adding IMG_3691.jpg with resolution 4032x3024 --> 512x384\n",
      " (Found 215 images)\n"
     ]
    }
   ],
   "source": [
    "images = load_images(\"data/images\", size=512)"
   ]
  },
  {
   "cell_type": "code",
   "execution_count": 6,
   "metadata": {},
   "outputs": [
    {
     "data": {
      "text/plain": [
       "12704"
      ]
     },
     "execution_count": 6,
     "metadata": {},
     "output_type": "execute_result"
    }
   ],
   "source": [
    "pairs = make_pairs(images, scene_graph='complete', prefilter='seq32', symmetrize=True)\n",
    "\n",
    "len(pairs)"
   ]
  },
  {
   "cell_type": "code",
   "execution_count": 7,
   "metadata": {},
   "outputs": [
    {
     "name": "stdout",
     "output_type": "stream",
     "text": [
      ">> Inference with model on 12704 image pairs\n"
     ]
    },
    {
     "name": "stderr",
     "output_type": "stream",
     "text": [
      "  0%|                                                                                                                                                                                                                                                                                                                                                                                                                                                                                                                                                                                                                                                                                                                                                                                                                                                                                                                                                                                                          | 0/794 [00:00<?, ?it/s]"
     ]
    },
    {
     "name": "stderr",
     "output_type": "stream",
     "text": [
      " 86%|███████████████████████████████████████████████████████████████████████████████████████████████████████████████████████████████████████████████████████████████████████████████████████████████████████████████████████████████████████████████████████████████████████████████████████████████████████████████████████████████████████████████████████████████████████████████████████████████████████████████████████████████████████████████████████████████████████████████████████████████████████████████████████████████████████████████████████████████████████████████████████████████████████████████████████████████████████████████████████████████████████████████████████████████████████████████████████████████████████████████████████████████████████████████████████████████████████████████████████████████████████████████████████████                                                                                                                                     | 684/794 [17:27<02:47,  1.52s/it]"
     ]
    },
    {
     "ename": "",
     "evalue": "",
     "output_type": "error",
     "traceback": [
      "\u001b[1;31mCannot execute code, session has been disposed. Please try restarting the Kernel."
     ]
    },
    {
     "ename": "",
     "evalue": "",
     "output_type": "error",
     "traceback": [
      "\u001b[1;31mThe Kernel crashed while executing code in the the current cell or a previous cell. Please review the code in the cell(s) to identify a possible cause of the failure. Click <a href='https://aka.ms/vscodeJupyterKernelCrash'>here</a> for more info. View Jupyter <a href='command:jupyter.viewOutput'>log</a> for further details."
     ]
    }
   ],
   "source": [
    "output = inference(pairs, model, device, batch_size=32)"
   ]
  },
  {
   "cell_type": "code",
   "execution_count": null,
   "metadata": {},
   "outputs": [],
   "source": [
    "scene = global_aligner(output, device=device, mode=GlobalAlignerMode.PointCloudOptimizer)\n",
    "loss = scene.compute_global_alignment(init=\"mst\", niter=niter, schedule=schedule, lr=lr)"
   ]
  }
 ],
 "metadata": {
  "kernelspec": {
   "display_name": "azureml_py38",
   "language": "python",
   "name": "python3"
  },
  "language_info": {
   "codemirror_mode": {
    "name": "ipython",
    "version": 3
   },
   "file_extension": ".py",
   "mimetype": "text/x-python",
   "name": "python",
   "nbconvert_exporter": "python",
   "pygments_lexer": "ipython3",
   "version": "3.8.5"
  },
  "orig_nbformat": 4
 },
 "nbformat": 4,
 "nbformat_minor": 2
}
